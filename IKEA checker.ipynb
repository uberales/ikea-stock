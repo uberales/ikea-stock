{
 "cells": [
  {
   "cell_type": "code",
   "execution_count": 6,
   "metadata": {},
   "outputs": [],
   "source": [
    "stores_prague = {\n",
    "    \"408\": 'IKEA Černý Most',\n",
    "    \"178\": 'IKEA Zličín',\n",
    "}\n",
    "\n",
    "# Fill item IDs and desired item counts\n",
    "kitchen_items = {\n",
    "    \"803.416.46\": 1,\n",
    "    \"202.055.19\": 1\n",
    "}"
   ]
  },
  {
   "cell_type": "code",
   "execution_count": 7,
   "metadata": {},
   "outputs": [],
   "source": [
    "from scraper import get_stock, get_availabilities, get_summary, get_item_info, get_item_descriptions"
   ]
  },
  {
   "cell_type": "code",
   "execution_count": 8,
   "metadata": {},
   "outputs": [],
   "source": [
    "item_descriptions = get_item_descriptions(kitchen_items)"
   ]
  },
  {
   "cell_type": "code",
   "execution_count": 9,
   "metadata": {},
   "outputs": [],
   "source": [
    "availabilities = get_availabilities(stores_prague, kitchen_items)\n",
    "summary = get_summary(availabilities, kitchen_items)"
   ]
  },
  {
   "cell_type": "code",
   "execution_count": 10,
   "metadata": {},
   "outputs": [
    {
     "name": "stdout",
     "output_type": "stream",
     "text": [
      "IKEA Černý Most\n",
      "- Fully stocked, shop now.\n",
      "\n",
      "IKEA Zličín\n",
      "- Fully stocked, shop now.\n",
      "\n"
     ]
    }
   ],
   "source": [
    "farthest_restocks = {store_id: max([summary[store_id][item_id] for item_id in summary[store_id]]) \n",
    "                     for store_id in availabilities if len(summary[store_id]) > 0}\n",
    "\n",
    "for store_id in stores_prague:\n",
    "    print(\"{}\".format(stores_prague[store_id]))\n",
    "    if store_id in farthest_restocks:\n",
    "        print('- Wait until {}'.format(farthest_restocks[store_id].strftime(\"%Y-%m-%d\")))\n",
    "        print('- Restock dates')\n",
    "        for item_id in summary[store_id]:\n",
    "            print(\"  Item {}: {} ({}, {})\".format(item_id, \n",
    "                                                  summary[store_id][item_id].strftime(\"%Y-%m-%d\"), \n",
    "                                                  item_descriptions[item_id]['name'], \n",
    "                                                  item_descriptions[item_id]['description']))\n",
    "    else:\n",
    "        print('- Fully stocked, shop now.')\n",
    "    print()"
   ]
  }
 ],
 "metadata": {
  "kernelspec": {
   "display_name": "Python 3",
   "language": "python",
   "name": "python3"
  },
  "language_info": {
   "codemirror_mode": {
    "name": "ipython",
    "version": 3
   },
   "file_extension": ".py",
   "mimetype": "text/x-python",
   "name": "python",
   "nbconvert_exporter": "python",
   "pygments_lexer": "ipython3",
   "version": "3.7.4"
  }
 },
 "nbformat": 4,
 "nbformat_minor": 2
}
